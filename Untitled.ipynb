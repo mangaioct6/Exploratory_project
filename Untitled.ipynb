{
 "cells": [
  {
   "cell_type": "code",
   "execution_count": null,
   "id": "b646ee04",
   "metadata": {},
   "outputs": [],
   "source": [
    "def JasonData(startDate,endDate):\n",
    "    base_url = \"https://api.nasa.gov/neo/rest/v1/feed?start_date=\"+startDate+\"&end_date=\"+endDate+\"&api_key=oZMj9ugDHdPXcNimvzMjyhFMwvyHDm6K1RwhLyjV\"\n",
    "    req = requests.get(base_url)\n",
    "    return req.json()\n",
    "def createDictionary(asteroid_data):\n",
    "    \n",
    "#Using for loops to go loop through the list and add to dictionary\n",
    " \n",
    "    for i in asteroid_data['near_earth_objects']:\n",
    "    \n",
    "    #Handled try and except method\n",
    "    \n",
    "        try:\n",
    "            if i !=0:\n",
    "                print('Found Asteriods in this Date: ',i)\n",
    "            \n",
    "            for j in asteroid_data['near_earth_objects'][i]:\n",
    "                nasa_asteroid['neo_reference_id'].append(j['neo_reference_id'])\n",
    "                nasa_asteroid['asteriod_name'].append(j['name'])\n",
    "                nasa_asteroid['absolute_magnitude'].append(j['absolute_magnitude_h'])\n",
    "                nasa_asteroid['estimated_diameter_min_km'].append(j['estimated_diameter']['kilometers']['estimated_diameter_min'])\n",
    "                nasa_asteroid['estimated_diameter_max_km'].append(j['estimated_diameter']['kilometers']['estimated_diameter_max'])\n",
    "                nasa_asteroid['is_potentially_hazardous_asteroid'].append(j['is_potentially_hazardous_asteroid'])\n",
    "                for k in j['close_approach_data']:\n",
    "                    nasa_asteroid['close_approach_date_time'].append(k['close_approach_date'])\n",
    "                    nasa_asteroid['miss_distance_miles'].append(k['miss_distance']['miles'])\n",
    "                    nasa_asteroid['relative_velocity_km_per_second'].append(k['relative_velocity']['kilometers_per_second'])\n",
    "                    nasa_asteroid['relative_velocity_km_per_hour'].append(k['relative_velocity']['kilometers_per_hour'])\n",
    "                    nasa_asteroid['orbiting_body'].append(k['orbiting_body'])\n",
    "        except:\n",
    "            print('There is no asteriod this day')\n",
    "\n",
    "nasa_asteroid={'neo_reference_id':[],\n",
    "               'asteriod_name': [],\n",
    "               'absolute_magnitude':[],\n",
    "               'estimated_diameter_min_km':[],\n",
    "               'estimated_diameter_max_km':[],\n",
    "               'is_potentially_hazardous_asteroid': [],\n",
    "               'close_approach_date_time':[],\n",
    "               'relative_velocity_km_per_second':[],\n",
    "               'relative_velocity_km_per_hour':[],\n",
    "               'miss_distance_miles':[],\n",
    "               'orbiting_body':[], \n",
    "                }\n",
    "\n",
    "\n",
    "createDictionary(JasonData(\"2021-10-01\",\"2021-10-08\"))\n",
    "createDictionary(JasonData(\"2021-10-09\",\"2021-10-16\"))\n",
    "createDictionary(JasonData(\"2021-10-17\",\"2021-10-24\"))\n",
    "createDictionary(JasonData(\"2021-10-25\",\"2021-10-31\"))\n",
    "\n",
    "\n",
    "nasa_asteroid_df=pd.DataFrame(nasa_asteroid)\n",
    "nasa_asteroid_df"
   ]
  }
 ],
 "metadata": {
  "kernelspec": {
   "display_name": "Python 3 (ipykernel)",
   "language": "python",
   "name": "python3"
  },
  "language_info": {
   "codemirror_mode": {
    "name": "ipython",
    "version": 3
   },
   "file_extension": ".py",
   "mimetype": "text/x-python",
   "name": "python",
   "nbconvert_exporter": "python",
   "pygments_lexer": "ipython3",
   "version": "3.8.5"
  }
 },
 "nbformat": 4,
 "nbformat_minor": 5
}
