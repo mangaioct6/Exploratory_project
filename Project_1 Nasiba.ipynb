{
 "cells": [
  {
   "cell_type": "code",
   "execution_count": 1,
   "id": "72a02a02",
   "metadata": {},
   "outputs": [],
   "source": [
    "import matplotlib.pyplot as plt\n",
    "import seaborn as sns\n",
    "import pandas as pd\n",
    "import numpy as np\n",
    "import requests\n",
    "import time\n",
    "from pprint import pprint\n",
    "\n",
    "\n",
    "#import api_keys\n",
    "from api_keys import api_key"
   ]
  },
  {
   "cell_type": "code",
   "execution_count": 2,
   "id": "8a3abfbf",
   "metadata": {},
   "outputs": [
    {
     "name": "stdout",
     "output_type": "stream",
     "text": [
      "Found Asteriods in this Date:  2021-10-01\n",
      "Found Asteriods in this Date:  2021-10-06\n",
      "Found Asteriods in this Date:  2021-10-07\n",
      "Found Asteriods in this Date:  2021-10-08\n",
      "Found Asteriods in this Date:  2021-10-02\n",
      "Found Asteriods in this Date:  2021-10-03\n",
      "Found Asteriods in this Date:  2021-10-04\n",
      "Found Asteriods in this Date:  2021-10-05\n",
      "Found Asteriods in this Date:  2021-10-10\n",
      "Found Asteriods in this Date:  2021-10-11\n",
      "Found Asteriods in this Date:  2021-10-12\n",
      "Found Asteriods in this Date:  2021-10-09\n",
      "Found Asteriods in this Date:  2021-10-13\n",
      "Found Asteriods in this Date:  2021-10-14\n",
      "Found Asteriods in this Date:  2021-10-15\n",
      "Found Asteriods in this Date:  2021-10-16\n",
      "Found Asteriods in this Date:  2021-10-20\n",
      "Found Asteriods in this Date:  2021-10-21\n",
      "Found Asteriods in this Date:  2021-10-22\n",
      "Found Asteriods in this Date:  2021-10-23\n",
      "Found Asteriods in this Date:  2021-10-17\n",
      "Found Asteriods in this Date:  2021-10-18\n",
      "Found Asteriods in this Date:  2021-10-19\n",
      "Found Asteriods in this Date:  2021-10-24\n",
      "Found Asteriods in this Date:  2021-10-31\n",
      "Found Asteriods in this Date:  2021-10-30\n",
      "Found Asteriods in this Date:  2021-10-28\n",
      "Found Asteriods in this Date:  2021-10-29\n",
      "Found Asteriods in this Date:  2021-10-25\n",
      "Found Asteriods in this Date:  2021-10-26\n",
      "Found Asteriods in this Date:  2021-10-27\n"
     ]
    },
    {
     "data": {
      "text/html": [
       "<div>\n",
       "<style scoped>\n",
       "    .dataframe tbody tr th:only-of-type {\n",
       "        vertical-align: middle;\n",
       "    }\n",
       "\n",
       "    .dataframe tbody tr th {\n",
       "        vertical-align: top;\n",
       "    }\n",
       "\n",
       "    .dataframe thead th {\n",
       "        text-align: right;\n",
       "    }\n",
       "</style>\n",
       "<table border=\"1\" class=\"dataframe\">\n",
       "  <thead>\n",
       "    <tr style=\"text-align: right;\">\n",
       "      <th></th>\n",
       "      <th>name</th>\n",
       "      <th>absolute magnitude</th>\n",
       "      <th>estimated diameter(max)</th>\n",
       "      <th>is potentially hazardous asteroid</th>\n",
       "      <th>close approach: Earth miss distance</th>\n",
       "    </tr>\n",
       "  </thead>\n",
       "  <tbody>\n",
       "    <tr>\n",
       "      <th>0</th>\n",
       "      <td>138893 (2000 YH66)</td>\n",
       "      <td>18.060</td>\n",
       "      <td>1.452245</td>\n",
       "      <td>False</td>\n",
       "      <td>64.716708</td>\n",
       "    </tr>\n",
       "    <tr>\n",
       "      <th>1</th>\n",
       "      <td>386504 (2009 BP58)</td>\n",
       "      <td>18.700</td>\n",
       "      <td>1.081534</td>\n",
       "      <td>False</td>\n",
       "      <td>31.780412</td>\n",
       "    </tr>\n",
       "    <tr>\n",
       "      <th>2</th>\n",
       "      <td>(2012 QL14)</td>\n",
       "      <td>24.400</td>\n",
       "      <td>0.078350</td>\n",
       "      <td>False</td>\n",
       "      <td>49.369183</td>\n",
       "    </tr>\n",
       "    <tr>\n",
       "      <th>3</th>\n",
       "      <td>(2013 JE1)</td>\n",
       "      <td>19.200</td>\n",
       "      <td>0.859093</td>\n",
       "      <td>False</td>\n",
       "      <td>26.463244</td>\n",
       "    </tr>\n",
       "    <tr>\n",
       "      <th>4</th>\n",
       "      <td>(2013 JV17)</td>\n",
       "      <td>27.800</td>\n",
       "      <td>0.016370</td>\n",
       "      <td>False</td>\n",
       "      <td>71.070729</td>\n",
       "    </tr>\n",
       "    <tr>\n",
       "      <th>...</th>\n",
       "      <td>...</td>\n",
       "      <td>...</td>\n",
       "      <td>...</td>\n",
       "      <td>...</td>\n",
       "      <td>...</td>\n",
       "    </tr>\n",
       "    <tr>\n",
       "      <th>607</th>\n",
       "      <td>(2021 UM4)</td>\n",
       "      <td>27.717</td>\n",
       "      <td>0.017007</td>\n",
       "      <td>False</td>\n",
       "      <td>1.040335</td>\n",
       "    </tr>\n",
       "    <tr>\n",
       "      <th>608</th>\n",
       "      <td>(2021 UO4)</td>\n",
       "      <td>26.289</td>\n",
       "      <td>0.032828</td>\n",
       "      <td>False</td>\n",
       "      <td>6.165073</td>\n",
       "    </tr>\n",
       "    <tr>\n",
       "      <th>609</th>\n",
       "      <td>(2021 UF6)</td>\n",
       "      <td>25.805</td>\n",
       "      <td>0.041024</td>\n",
       "      <td>False</td>\n",
       "      <td>4.705099</td>\n",
       "    </tr>\n",
       "    <tr>\n",
       "      <th>610</th>\n",
       "      <td>(2021 UA7)</td>\n",
       "      <td>28.738</td>\n",
       "      <td>0.010628</td>\n",
       "      <td>False</td>\n",
       "      <td>0.128193</td>\n",
       "    </tr>\n",
       "    <tr>\n",
       "      <th>611</th>\n",
       "      <td>(2021 VK)</td>\n",
       "      <td>24.824</td>\n",
       "      <td>0.064453</td>\n",
       "      <td>False</td>\n",
       "      <td>7.484862</td>\n",
       "    </tr>\n",
       "  </tbody>\n",
       "</table>\n",
       "<p>612 rows × 5 columns</p>\n",
       "</div>"
      ],
      "text/plain": [
       "                   name  absolute magnitude  estimated diameter(max)  \\\n",
       "0    138893 (2000 YH66)              18.060                 1.452245   \n",
       "1    386504 (2009 BP58)              18.700                 1.081534   \n",
       "2           (2012 QL14)              24.400                 0.078350   \n",
       "3            (2013 JE1)              19.200                 0.859093   \n",
       "4           (2013 JV17)              27.800                 0.016370   \n",
       "..                  ...                 ...                      ...   \n",
       "607          (2021 UM4)              27.717                 0.017007   \n",
       "608          (2021 UO4)              26.289                 0.032828   \n",
       "609          (2021 UF6)              25.805                 0.041024   \n",
       "610          (2021 UA7)              28.738                 0.010628   \n",
       "611           (2021 VK)              24.824                 0.064453   \n",
       "\n",
       "     is potentially hazardous asteroid  close approach: Earth miss distance  \n",
       "0                                False                            64.716708  \n",
       "1                                False                            31.780412  \n",
       "2                                False                            49.369183  \n",
       "3                                False                            26.463244  \n",
       "4                                False                            71.070729  \n",
       "..                                 ...                                  ...  \n",
       "607                              False                             1.040335  \n",
       "608                              False                             6.165073  \n",
       "609                              False                             4.705099  \n",
       "610                              False                             0.128193  \n",
       "611                              False                             7.484862  \n",
       "\n",
       "[612 rows x 5 columns]"
      ]
     },
     "execution_count": 2,
     "metadata": {},
     "output_type": "execute_result"
    }
   ],
   "source": [
    "def JasonData(startDate,endDate):\n",
    "    base_url = \"https://api.nasa.gov/neo/rest/v1/feed?start_date=\"+startDate+\"&end_date=\"+endDate+\"&api_key=oZMj9ugDHdPXcNimvzMjyhFMwvyHDm6K1RwhLyjV\"\n",
    "    req = requests.get(base_url)\n",
    "    return req.json()\n",
    "\n",
    "def createDictionary(json_data):\n",
    "    \n",
    "#using for loops to go loop throuh the list and add to dictionary\n",
    "\n",
    "    for i in json_data['near_earth_objects']:\n",
    "        \n",
    "        try:\n",
    "            if i !=0:\n",
    "                print('Found Asteriods in this Date: ',i)\n",
    "            \n",
    "            for j in json_data['near_earth_objects'][i]:\n",
    "                asteroids_data['name'].append(j['name'])\n",
    "                asteroids_data['absolute magnitude'].append(j['absolute_magnitude_h'])\n",
    "                asteroids_data['estimated diameter(max)'].append(j['estimated_diameter']['kilometers']['estimated_diameter_max'])\n",
    "                asteroids_data['is potentially hazardous asteroid'].append(j['is_potentially_hazardous_asteroid'])\n",
    "            for k in json_data ['near_earth_objects'][i]:\n",
    "                asteroids_data['close approach: Earth miss distance'].append(k['close_approach_data'][0]['miss_distance']['kilometers'])\n",
    "        except:\n",
    "            print('There is no asteriod this day')\n",
    "        \n",
    "        \n",
    "asteroids_data = {'name':[],\n",
    "                 'absolute magnitude':[] ,\n",
    "                 'estimated diameter(max)':[],\n",
    "                 'is potentially hazardous asteroid':[],\n",
    "                 'close approach: Earth miss distance':[]}\n",
    "               \n",
    "\n",
    "\n",
    "createDictionary(JasonData(\"2021-10-01\",\"2021-10-08\"))\n",
    "createDictionary(JasonData(\"2021-10-09\",\"2021-10-16\"))\n",
    "createDictionary(JasonData(\"2021-10-17\",\"2021-10-24\"))\n",
    "createDictionary(JasonData(\"2021-10-25\",\"2021-10-31\"))\n",
    "\n",
    "\n",
    "\n",
    "asteroids_df = pd.DataFrame.from_dict(asteroids_data)\n",
    "asteroids_df['close approach: Earth miss distance'] = asteroids_df['close approach: Earth miss distance'].astype(float)\n",
    "asteroids_df['close approach: Earth miss distance'] = asteroids_df['close approach: Earth miss distance']/1000000\n",
    "asteroids_df\n",
    "\n"
   ]
  },
  {
   "cell_type": "markdown",
   "id": "2f85c5f1",
   "metadata": {},
   "source": [
    "Question: Are asteroids coming closer to Earth typically larger or smaller in size than the ones that miss the earth at farther distances? How many asteroids with a diameter of 1 kilometer or more missed the Earth by 7.5 million kilometers or less?"
   ]
  },
  {
   "cell_type": "markdown",
   "id": "12f32d35",
   "metadata": {},
   "source": [
    "Answer: There were zero asteroids with a diameter of 1 kilometer or more that missed the Earth by 7.5 million kilometers or less as it can be seen in the top-left quadrant of the below chart. Asteroids coming closer to Earth tend to be smaller than asteroids missing the earth at farther distances."
   ]
  },
  {
   "cell_type": "code",
   "execution_count": 3,
   "id": "7f4c9cd3",
   "metadata": {},
   "outputs": [
    {
     "data": {
      "text/plain": [
       "name                                   0\n",
       "absolute magnitude                     0\n",
       "estimated diameter(max)                0\n",
       "is potentially hazardous asteroid      0\n",
       "close approach: Earth miss distance    0\n",
       "dtype: int64"
      ]
     },
     "execution_count": 3,
     "metadata": {},
     "output_type": "execute_result"
    }
   ],
   "source": [
    "asteroids_df[(asteroids_df['estimated diameter(max)']>=1)&\n",
    "             (asteroids_df['close approach: Earth miss distance']<=7.5)].count()"
   ]
  },
  {
   "cell_type": "code",
   "execution_count": 4,
   "id": "6e83150c",
   "metadata": {},
   "outputs": [
    {
     "data": {
      "image/png": "[encoded data removed]",
      "text/plain": [
       "<Figure size 432x288 with 1 Axes>"
      ]
     },
     "metadata": {
      "needs_background": "light"
     },
     "output_type": "display_data"
    }
   ],
   "source": [
    "ax=sns.scatterplot(x = 'close approach: Earth miss distance',\n",
    "            y = 'estimated diameter(max)',\n",
    "            data = asteroids_df)\n",
    "plt.axvline(x=7.5)\n",
    "plt.axhline(y=1)\n",
    "\n",
    "plt.xlabel('Close approach: Earth miss distance(Mln,KM)')\n",
    "plt.ylabel('Estimated diameter(max,KM)')\n",
    "plt.title('Close approach: Earth miss distance vs. Estimated diameter')\n",
    "\n",
    "plt.show()\n"
   ]
  },
  {
   "cell_type": "markdown",
   "id": "06c28704",
   "metadata": {},
   "source": [
    "Question: Are brighter (with higher absolute magnitude) asteroids bigger in size than darker (with lower absolute magnitude)?"
   ]
  },
  {
   "cell_type": "markdown",
   "id": "5b2c7d77",
   "metadata": {},
   "source": [
    "Answer: Brighter asteroids are generally smaller in size than darker asteroids. The relationship between absolute magnitude and asteroid diameter appears to be negative logarithmic."
   ]
  },
  {
   "cell_type": "code",
   "execution_count": 5,
   "id": "75528a7d",
   "metadata": {},
   "outputs": [
    {
     "data": {
      "image/png": "[encoded data removed]",
      "text/plain": [
       "<Figure size 360x360 with 1 Axes>"
      ]
     },
     "metadata": {
      "needs_background": "light"
     },
     "output_type": "display_data"
    }
   ],
   "source": [
    "sns.relplot(x = 'estimated diameter(max)', y = 'absolute magnitude',\n",
    "           data = asteroids_df,\n",
    "           s = 150,\n",
    "           color = 'red',\n",
    "           marker = '8',).set(title = \"Estimated diameter (max) vs. Absolute magnitude\",\n",
    "                                xlabel = 'Estimated diameter (MAX/KM)',\n",
    "                                ylabel = 'Absolute magnitude ')\n",
    "plt.show()"
   ]
  },
  {
   "cell_type": "code",
   "execution_count": null,
   "id": "4afdf03f",
   "metadata": {},
   "outputs": [],
   "source": []
  }
 ],
 "metadata": {
  "kernelspec": {
   "display_name": "Python 3 (ipykernel)",
   "language": "python",
   "name": "python3"
  },
  "language_info": {
   "codemirror_mode": {
    "name": "ipython",
    "version": 3
   },
   "file_extension": ".py",
   "mimetype": "text/x-python",
   "name": "python",
   "nbconvert_exporter": "python",
   "pygments_lexer": "ipython3",
   "version": "3.8.5"
  }
 },
 "nbformat": 4,
 "nbformat_minor": 5
}
